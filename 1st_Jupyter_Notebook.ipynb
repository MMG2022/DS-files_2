{
  "metadata": {
    "kernelspec": {
      "name": "python",
      "display_name": "Pyolite",
      "language": "python"
    },
    "language_info": {
      "codemirror_mode": {
        "name": "python",
        "version": 3
      },
      "file_extension": ".py",
      "mimetype": "text/x-python",
      "name": "python",
      "nbconvert_exporter": "python",
      "pygments_lexer": "ipython3",
      "version": "3.8"
    }
  },
  "nbformat_minor": 4,
  "nbformat": 4,
  "cells": [
    {
      "cell_type": "markdown",
      "source": "<center>\n    <img src=\"https://s3-api.us-geo.objectstorage.softlayer.net/cf-courses-data/CognitiveClass/Logos/organization_logo/organization_logo.png\" width=\"300\" alt=\"cognitiveclass.ai logo\"  />\n</center>\n",
      "metadata": {}
    },
    {
      "cell_type": "markdown",
      "source": "#### Add your code below following the instructions given in the course\n",
      "metadata": {}
    },
    {
      "cell_type": "markdown",
      "source": "<h1 style=\"Header;\">My Jupyter Notebook on IBM Watson Studio</h1>",
      "metadata": {}
    },
    {
      "cell_type": "markdown",
      "source": "**Michele_Mogos**\n<br>\n*Project Manager*",
      "metadata": {}
    },
    {
      "cell_type": "markdown",
      "source": "<em>I am interested in data science because I would like to learn the needful skills to extract knowledge and insights from ther data I work with</em>.",
      "metadata": {}
    },
    {
      "cell_type": "markdown",
      "source": "<h3 style=\"Header;\">The following code sums up two numbers</h3>",
      "metadata": {}
    },
    {
      "cell_type": "code",
      "source": "1+1",
      "metadata": {
        "trusted": true
      },
      "execution_count": 24,
      "outputs": [
        {
          "execution_count": 24,
          "output_type": "execute_result",
          "data": {
            "text/plain": "2"
          },
          "metadata": {}
        }
      ]
    },
    {
      "cell_type": "markdown",
      "source": "\nYour weekly cost for gas depends on:\n- the number of kms you do each week\n- the cost of gas\n- your car gas consumption\n***\nTo reduce your weekly cost for gas you should:\n1. reduce the numer of kms you do each week\n2. get a more efficient car\n3. hope the price of gas will go down\n\n[click here to visit Google ](http://google.com)\n\n\n",
      "metadata": {}
    }
  ]
}